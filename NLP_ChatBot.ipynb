{
 "cells": [
  {
   "cell_type": "markdown",
   "metadata": {
    "id": "NTN7zBT4m2tn"
   },
   "source": [
    "Importing required Packages"
   ]
  },
  {
   "cell_type": "code",
   "execution_count": 4,
   "metadata": {
    "colab": {
     "base_uri": "https://localhost:8080/"
    },
    "executionInfo": {
     "elapsed": 591,
     "status": "ok",
     "timestamp": 1700417141680,
     "user": {
      "displayName": "Krishna Dashti (KD)",
      "userId": "01050470277052923242"
     },
     "user_tz": -330
    },
    "id": "3QyaeMJEZCpa",
    "outputId": "5026e46c-6a32-466b-8705-d68766da8045"
   },
   "outputs": [
    {
     "name": "stderr",
     "output_type": "stream",
     "text": [
      "[nltk_data] Downloading package stopwords to /root/nltk_data...\n",
      "[nltk_data]   Package stopwords is already up-to-date!\n",
      "[nltk_data] Downloading package punkt to /root/nltk_data...\n",
      "[nltk_data]   Package punkt is already up-to-date!\n"
     ]
    },
    {
     "data": {
      "text/plain": [
       "True"
      ]
     },
     "execution_count": 4,
     "metadata": {},
     "output_type": "execute_result"
    }
   ],
   "source": [
    "import io\n",
    "import random\n",
    "import requests\n",
    "import string\n",
    "import warnings\n",
    "import numpy as np\n",
    "from bs4 import BeautifulSoup\n",
    "from sklearn.feature_extraction.text import TfidfVectorizer\n",
    "from sklearn.metrics.pairwise import cosine_similarity\n",
    "import warnings\n",
    "warnings.filterwarnings('ignore')\n",
    "import nltk\n",
    "from nltk.stem import WordNetLemmatizer\n",
    "nltk.download('popular', quiet=True)\n",
    "nltk.download('stopwords')\n",
    "nltk.download('punkt')"
   ]
  },
  {
   "cell_type": "markdown",
   "metadata": {
    "id": "bhkOvEulnAPU"
   },
   "source": [
    "Web-Scrapping for the Data to feed into Bot"
   ]
  },
  {
   "cell_type": "code",
   "execution_count": 5,
   "metadata": {
    "executionInfo": {
     "elapsed": 590,
     "status": "ok",
     "timestamp": 1700417142266,
     "user": {
      "displayName": "Krishna Dashti (KD)",
      "userId": "01050470277052923242"
     },
     "user_tz": -330
    },
    "id": "IkPw5T3wZR6Y"
   },
   "outputs": [],
   "source": [
    "url = \"https://en.wikipedia.org/wiki/Natural_language_processing\"\n",
    "response = requests.get(url)\n",
    "if response.status_code == 200:\n",
    "    soup = BeautifulSoup(response.content, \"html.parser\")\n",
    "    raw = soup.get_text(separator=\" \")\n",
    "else:\n",
    "    print(\"Failed to retrieve the webpage\")"
   ]
  },
  {
   "cell_type": "markdown",
   "metadata": {
    "id": "5SJrN8DbnKy8"
   },
   "source": [
    "Chat Bot"
   ]
  },
  {
   "cell_type": "code",
   "execution_count": 6,
   "metadata": {
    "executionInfo": {
     "elapsed": 417,
     "status": "ok",
     "timestamp": 1700417142680,
     "user": {
      "displayName": "Krishna Dashti (KD)",
      "userId": "01050470277052923242"
     },
     "user_tz": -330
    },
    "id": "JD7gGnqtZV6H"
   },
   "outputs": [],
   "source": [
    "sent_tokens = nltk.sent_tokenize(raw)\n",
    "word_tokens = nltk.word_tokenize(raw)"
   ]
  },
  {
   "cell_type": "code",
   "execution_count": 7,
   "metadata": {
    "executionInfo": {
     "elapsed": 16,
     "status": "ok",
     "timestamp": 1700417142680,
     "user": {
      "displayName": "Krishna Dashti (KD)",
      "userId": "01050470277052923242"
     },
     "user_tz": -330
    },
    "id": "ExD10W9MZdVc"
   },
   "outputs": [],
   "source": [
    "lemmer = nltk.stem.WordNetLemmatizer()\n",
    "def LemTokens(tokens):\n",
    "    return [lemmer.lemmatize(token) for token in tokens]\n",
    "remove_punct_dict = dict((ord(punct), None) for punct in string.punctuation)\n",
    "\n",
    "def LemNormalize(text):\n",
    "    return LemTokens(nltk.word_tokenize(text.lower().translate(remove_punct_dict)))"
   ]
  },
  {
   "cell_type": "code",
   "execution_count": 8,
   "metadata": {
    "executionInfo": {
     "elapsed": 16,
     "status": "ok",
     "timestamp": 1700417142681,
     "user": {
      "displayName": "Krishna Dashti (KD)",
      "userId": "01050470277052923242"
     },
     "user_tz": -330
    },
    "id": "3rzbRLwvZhhS"
   },
   "outputs": [],
   "source": [
    "GREETING_INPUTS = (\"hello\", \"hi\", \"greetings\", \"sup\", \"what's up\",\"hey\",)\n",
    "GREETING_RESPONSES = [\"hi\", \"hey\", \"*nods*\", \"hi there\", \"hello\", \"I am glad! You are talking to me\"]\n",
    "def greeting(sentence):\n",
    "\n",
    "    for word in sentence.split():\n",
    "        if word.lower() in GREETING_INPUTS:\n",
    "            return random.choice(GREETING_RESPONSES)"
   ]
  },
  {
   "cell_type": "code",
   "execution_count": 9,
   "metadata": {
    "executionInfo": {
     "elapsed": 15,
     "status": "ok",
     "timestamp": 1700417142681,
     "user": {
      "displayName": "Krishna Dashti (KD)",
      "userId": "01050470277052923242"
     },
     "user_tz": -330
    },
    "id": "kEQiTT-kZkzS"
   },
   "outputs": [],
   "source": [
    "def response(user_response):\n",
    "    bot_response=''\n",
    "    sent_tokens.append(user_response)\n",
    "    TfidfVec = TfidfVectorizer(tokenizer=LemNormalize, stop_words='english')\n",
    "    tfidf = TfidfVec.fit_transform(sent_tokens)\n",
    "    vals = cosine_similarity(tfidf[-1], tfidf)\n",
    "    idx=vals.argsort()[0][-2]\n",
    "    flat = vals.flatten()\n",
    "    flat.sort()\n",
    "    req_tfidf = flat[-2]\n",
    "    if(req_tfidf==0):\n",
    "        bot_response=bot_response+\"I am sorry! I don't understand you\"\n",
    "        return bot_response\n",
    "    else:\n",
    "        bot_response = bot_response+sent_tokens[idx]\n",
    "        return bot_response"
   ]
  },
  {
   "cell_type": "code",
   "execution_count": 10,
   "metadata": {
    "colab": {
     "base_uri": "https://localhost:8080/"
    },
    "executionInfo": {
     "elapsed": 45863,
     "status": "ok",
     "timestamp": 1700417188529,
     "user": {
      "displayName": "Krishna Dashti (KD)",
      "userId": "01050470277052923242"
     },
     "user_tz": -330
    },
    "id": "i1Rb_pidZpDB",
    "outputId": "38e54913-2612-41a2-f2bb-9f6dbdcd5b10"
   },
   "outputs": [
    {
     "name": "stdout",
     "output_type": "stream",
     "text": [
      "\n",
      "BOT: Hello, I will answer your queries about NLP. If you want to exit, type Bye!\n",
      "\n",
      "YOU: hi\n",
      "\n",
      "BOT: hi\n",
      "\n",
      "YOU: tell about nlp\n",
      "\n",
      "BOT: Intro to NLP in Machine Learning\" .\n",
      "\n",
      "YOU: tell me about  Georgetown experiment\n",
      "\n",
      "BOT: 1950s : The  Georgetown experiment  in 1954 involved fully  automatic translation  of more than sixty Russian sentences into English.\n",
      "\n",
      "YOU: tell me about Lemmatization\n",
      "\n",
      "BOT: Lemmatization is another technique for reducing words to their normalized form.\n",
      "\n",
      "YOU: bye\n",
      "\n",
      "BOT: Bye! take care..\n"
     ]
    }
   ],
   "source": [
    "flag=True\n",
    "print(\"\\nBOT: Hello, I will answer your queries about NLP. If you want to exit, type Bye!\")\n",
    "while(flag==True):\n",
    "    user_response = input(\"\\nYOU: \")\n",
    "    user_response=user_response.lower()\n",
    "    if(user_response!='bye'):\n",
    "        if(user_response=='thanks' or user_response=='thank you' ):\n",
    "            flag=False\n",
    "            print(\"\\nBOT: You are welcome..\")\n",
    "        else:\n",
    "            if(greeting(user_response)!=None):\n",
    "                print(\"\\nBOT: \"+greeting(user_response))\n",
    "            else:\n",
    "                print(\"\\nBOT: \",end=\"\")\n",
    "                print(response(user_response))\n",
    "                sent_tokens.remove(user_response)\n",
    "    else:\n",
    "        flag=False\n",
    "        print(\"\\nBOT: Bye! take care..\")\n",
    "        break"
   ]
  }
 ],
 "metadata": {
  "colab": {
   "authorship_tag": "ABX9TyNNFhpTNCzgz18dw33obYuH",
   "provenance": []
  },
  "kernelspec": {
   "display_name": "Python 3 (ipykernel)",
   "language": "python",
   "name": "python3"
  },
  "language_info": {
   "codemirror_mode": {
    "name": "ipython",
    "version": 3
   },
   "file_extension": ".py",
   "mimetype": "text/x-python",
   "name": "python",
   "nbconvert_exporter": "python",
   "pygments_lexer": "ipython3",
   "version": "3.11.4"
  }
 },
 "nbformat": 4,
 "nbformat_minor": 4
}
